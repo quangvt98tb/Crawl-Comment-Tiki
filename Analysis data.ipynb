{
 "cells": [
  {
   "cell_type": "code",
   "execution_count": 1,
   "metadata": {},
   "outputs": [],
   "source": [
    "import pandas as pd\n",
    "import json\n",
    "import time\n",
    "import numpy as np\n",
    "import csv\n",
    "import matplotlib.pyplot as plt"
   ]
  },
  {
   "cell_type": "code",
   "execution_count": 2,
   "metadata": {},
   "outputs": [],
   "source": [
    "# Convert json to csv\n",
    "with open('comments.json',encoding='utf-8') as jf:\n",
    "    datas = json.load(jf)\n",
    "    \n",
    "data_file = open('comments.csv', 'w', encoding='utf-8')\n",
    "# create the csv writer object \n",
    "csv_writer = csv.writer(data_file)\n",
    "\n",
    "# Counter variable used for writing  \n",
    "# headers to the CSV file \n",
    "count = 0\n",
    "  \n",
    "for data in datas: \n",
    "    if count == 0: \n",
    "  \n",
    "        # Writing headers of CSV file \n",
    "        header = data.keys() \n",
    "        csv_writer.writerow(header) \n",
    "        count += 1\n",
    "  \n",
    "    # Writing data of CSV file \n",
    "    csv_writer.writerow(data.values()) \n",
    "  \n",
    "data_file.close() "
   ]
  },
  {
   "cell_type": "code",
   "execution_count": 3,
   "metadata": {},
   "outputs": [
    {
     "data": {
      "text/plain": [
       "88527"
      ]
     },
     "execution_count": 3,
     "metadata": {},
     "output_type": "execute_result"
    }
   ],
   "source": [
    "# read data open file json\n",
    "import json \n",
    "with open('comments.json',encoding='utf-8') as f:\n",
    "    data_cmts = json.loads(f.read())\n",
    "len(data_cmts)"
   ]
  },
  {
   "cell_type": "code",
   "execution_count": 4,
   "metadata": {},
   "outputs": [
    {
     "data": {
      "text/html": [
       "<div>\n",
       "<style scoped>\n",
       "    .dataframe tbody tr th:only-of-type {\n",
       "        vertical-align: middle;\n",
       "    }\n",
       "\n",
       "    .dataframe tbody tr th {\n",
       "        vertical-align: top;\n",
       "    }\n",
       "\n",
       "    .dataframe thead th {\n",
       "        text-align: right;\n",
       "    }\n",
       "</style>\n",
       "<table border=\"1\" class=\"dataframe\">\n",
       "  <thead>\n",
       "    <tr style=\"text-align: right;\">\n",
       "      <th></th>\n",
       "      <th>rate</th>\n",
       "      <th>content</th>\n",
       "      <th>link</th>\n",
       "    </tr>\n",
       "  </thead>\n",
       "  <tbody>\n",
       "    <tr>\n",
       "      <th>0</th>\n",
       "      <td>5</td>\n",
       "      <td>Hình thức đẹp, còn nguyên màng co. Nội dung th...</td>\n",
       "      <td>https://tiki.vn/con-chim-xanh-biec-bay-ve-nguy...</td>\n",
       "    </tr>\n",
       "    <tr>\n",
       "      <th>1</th>\n",
       "      <td>5</td>\n",
       "      <td>Với mỗi tác phẩm của chú Nguyễn Nhật Ánh mình ...</td>\n",
       "      <td>https://tiki.vn/con-chim-xanh-biec-bay-ve-nguy...</td>\n",
       "    </tr>\n",
       "    <tr>\n",
       "      <th>2</th>\n",
       "      <td>5</td>\n",
       "      <td>Tuổi thơ lớn lên cùng những cuốn truyện của Ng...</td>\n",
       "      <td>https://tiki.vn/con-chim-xanh-biec-bay-ve-nguy...</td>\n",
       "    </tr>\n",
       "    <tr>\n",
       "      <th>3</th>\n",
       "      <td>5</td>\n",
       "      <td>Truyện này của NNA khác hẳn với những truyện k...</td>\n",
       "      <td>https://tiki.vn/con-chim-xanh-biec-bay-ve-nguy...</td>\n",
       "    </tr>\n",
       "    <tr>\n",
       "      <th>4</th>\n",
       "      <td>3</td>\n",
       "      <td>Truyện viết nhẹ nhàng, dí dỏm. Ngôn ngữ trong ...</td>\n",
       "      <td>https://tiki.vn/con-chim-xanh-biec-bay-ve-nguy...</td>\n",
       "    </tr>\n",
       "    <tr>\n",
       "      <th>...</th>\n",
       "      <td>...</td>\n",
       "      <td>...</td>\n",
       "      <td>...</td>\n",
       "    </tr>\n",
       "    <tr>\n",
       "      <th>88522</th>\n",
       "      <td>5</td>\n",
       "      <td>Sách mang hơi hướng của thể loại khoa học viễn...</td>\n",
       "      <td>https://tiki.vn/chua-da-zaggla-tap-2-tran-quye...</td>\n",
       "    </tr>\n",
       "    <tr>\n",
       "      <th>88523</th>\n",
       "      <td>5</td>\n",
       "      <td>Sách đẹp, dày, bao bì cẩn thận nhưng lại bị lỗ...</td>\n",
       "      <td>https://tiki.vn/chua-da-zaggla-tap-2-tran-quye...</td>\n",
       "    </tr>\n",
       "    <tr>\n",
       "      <th>88524</th>\n",
       "      <td>5</td>\n",
       "      <td>sách thì mình chưa đọc nhưng đã đọc phần 1 của...</td>\n",
       "      <td>https://tiki.vn/chua-da-zaggla-tap-2-tran-quye...</td>\n",
       "    </tr>\n",
       "    <tr>\n",
       "      <th>88525</th>\n",
       "      <td>5</td>\n",
       "      <td>Cực kỳ hài lòng</td>\n",
       "      <td>https://tiki.vn/chua-da-zaggla-tap-2-tran-quye...</td>\n",
       "    </tr>\n",
       "    <tr>\n",
       "      <th>88526</th>\n",
       "      <td>3</td>\n",
       "      <td>có lẽ cốt truyện cũng ổn nhưng mà cách...</td>\n",
       "      <td>https://tiki.vn/chua-da-zaggla-tap-2-tran-quye...</td>\n",
       "    </tr>\n",
       "  </tbody>\n",
       "</table>\n",
       "<p>88527 rows × 3 columns</p>\n",
       "</div>"
      ],
      "text/plain": [
       "       rate                                            content  \\\n",
       "0         5  Hình thức đẹp, còn nguyên màng co. Nội dung th...   \n",
       "1         5  Với mỗi tác phẩm của chú Nguyễn Nhật Ánh mình ...   \n",
       "2         5  Tuổi thơ lớn lên cùng những cuốn truyện của Ng...   \n",
       "3         5  Truyện này của NNA khác hẳn với những truyện k...   \n",
       "4         3  Truyện viết nhẹ nhàng, dí dỏm. Ngôn ngữ trong ...   \n",
       "...     ...                                                ...   \n",
       "88522     5  Sách mang hơi hướng của thể loại khoa học viễn...   \n",
       "88523     5  Sách đẹp, dày, bao bì cẩn thận nhưng lại bị lỗ...   \n",
       "88524     5  sách thì mình chưa đọc nhưng đã đọc phần 1 của...   \n",
       "88525     5                                    Cực kỳ hài lòng   \n",
       "88526     3  có lẽ cốt truyện cũng ổn nhưng mà cách...   \n",
       "\n",
       "                                                    link  \n",
       "0      https://tiki.vn/con-chim-xanh-biec-bay-ve-nguy...  \n",
       "1      https://tiki.vn/con-chim-xanh-biec-bay-ve-nguy...  \n",
       "2      https://tiki.vn/con-chim-xanh-biec-bay-ve-nguy...  \n",
       "3      https://tiki.vn/con-chim-xanh-biec-bay-ve-nguy...  \n",
       "4      https://tiki.vn/con-chim-xanh-biec-bay-ve-nguy...  \n",
       "...                                                  ...  \n",
       "88522  https://tiki.vn/chua-da-zaggla-tap-2-tran-quye...  \n",
       "88523  https://tiki.vn/chua-da-zaggla-tap-2-tran-quye...  \n",
       "88524  https://tiki.vn/chua-da-zaggla-tap-2-tran-quye...  \n",
       "88525  https://tiki.vn/chua-da-zaggla-tap-2-tran-quye...  \n",
       "88526  https://tiki.vn/chua-da-zaggla-tap-2-tran-quye...  \n",
       "\n",
       "[88527 rows x 3 columns]"
      ]
     },
     "execution_count": 4,
     "metadata": {},
     "output_type": "execute_result"
    }
   ],
   "source": [
    "data_cmt = pd.read_csv('comments.csv', encoding='utf-8')\n",
    "data_cmt"
   ]
  },
  {
   "cell_type": "markdown",
   "metadata": {},
   "source": [
    "## Thống kê bình luận theo số lượng rate"
   ]
  },
  {
   "cell_type": "code",
   "execution_count": 5,
   "metadata": {},
   "outputs": [
    {
     "name": "stdout",
     "output_type": "stream",
     "text": [
      "[1, 2, 3, 4, 5]\n"
     ]
    }
   ],
   "source": [
    "rates = np.array(data_cmt['rate'], dtype='int64')\n",
    "rate_xlabel = [i for i in range(1,6)]\n",
    "print(rate_xlabel)\n",
    "rate_data = []\n",
    "for i in range(1,6):\n",
    "    rate_data.append(np.count_nonzero( rates == i))"
   ]
  },
  {
   "cell_type": "code",
   "execution_count": 6,
   "metadata": {},
   "outputs": [
    {
     "data": {
      "text/plain": [
       "[6421, 5482, 5363, 11935, 59326]"
      ]
     },
     "execution_count": 6,
     "metadata": {},
     "output_type": "execute_result"
    }
   ],
   "source": [
    "rate_data"
   ]
  },
  {
   "cell_type": "code",
   "execution_count": 7,
   "metadata": {},
   "outputs": [
    {
     "data": {
      "image/png": "[encoded data removed]",
      "text/plain": [
       "<Figure size 720x504 with 1 Axes>"
      ]
     },
     "metadata": {},
     "output_type": "display_data"
    }
   ],
   "source": [
    "explode = (0.4, 0.3, 0.2, 0.1, 0.0)\n",
    "\n",
    "# Creating autocpt arguments \n",
    "def func(pct, allvalues): \n",
    "    absolute = int(pct / 100.*np.sum(allvalues)) \n",
    "    return \"{:.1f}%\\n({:d} g)\".format(pct, absolute) \n",
    "\n",
    "fig = plt.figure(figsize =(10, 7)) \n",
    "plt.pie(rate_data,\n",
    "        autopct = lambda pct: func(pct, rate_data), \n",
    "        explode = explode,\n",
    "        labels = rate_xlabel) \n",
    "plt.show()"
   ]
  },
  {
   "cell_type": "markdown",
   "metadata": {},
   "source": [
    "### Đánh giá\n",
    "**7,3%** đánh giá 1 sao, \n",
    "**6,2%** đánh giá 2 sao,\n",
    "**6,1%** đánh giá 3 sao,\n",
    "**13,5%** đánh giá 4 sao,\n",
    "**67%** đánh giá 5 sao "
   ]
  },
  {
   "cell_type": "markdown",
   "metadata": {},
   "source": [
    "## Đánh giá sản phẩm (tốt, không tốt, trung bình) "
   ]
  },
  {
   "cell_type": "code",
   "execution_count": 8,
   "metadata": {},
   "outputs": [
    {
     "data": {
      "text/plain": [
       "9496"
      ]
     },
     "execution_count": 8,
     "metadata": {},
     "output_type": "execute_result"
    }
   ],
   "source": [
    "links = data_cmt['link']\n",
    "i = 0\n",
    "list_books = []\n",
    "list_books.append(links[i])\n",
    "count = 1\n",
    "# while i < 77982:\n",
    "#     if links[i] == links[i+1]:\n",
    "#         i += 1\n",
    "#     else:\n",
    "#         list_books.append(links[i+1])\n",
    "#         i +=1\n",
    "for i in range(1,len(data_cmts)):\n",
    "    if links[i] == links[i-1]:\n",
    "        count += 0\n",
    "    else:\n",
    "        list_books.append(links[i])\n",
    "        count += 1\n",
    "count"
   ]
  },
  {
   "cell_type": "code",
   "execution_count": 9,
   "metadata": {},
   "outputs": [
    {
     "name": "stdout",
     "output_type": "stream",
     "text": [
      "9496\n"
     ]
    }
   ],
   "source": [
    "print(len(list_books))"
   ]
  },
  {
   "cell_type": "code",
   "execution_count": 10,
   "metadata": {},
   "outputs": [],
   "source": [
    "def countmaxcmt(rate):\n",
    "    good_cmt = rate.count(5) + rate.count(4) \n",
    "    tb_cmt = rate.count(3)\n",
    "    bad_cmt = rate.count(1) + rate.count(2)\n",
    "    tg = [good_cmt, tb_cmt, bad_cmt ]\n",
    "    if max(tg) == good_cmt:\n",
    "        return 1\n",
    "    elif max(tg) == tb_cmt: \n",
    "        return 2\n",
    "    else:\n",
    "        return 0\n",
    "        "
   ]
  },
  {
   "cell_type": "code",
   "execution_count": 11,
   "metadata": {},
   "outputs": [],
   "source": [
    "rate_cmt = []\n",
    "list_item = []\n",
    "i = 0 \n",
    "for index,item in enumerate(data_cmts):\n",
    "   if item['link'] == list_books[i]:\n",
    "        rate_cmt.append(item['rate'])\n",
    "   elif (i < count):\n",
    "        r = countmaxcmt(rate_cmt)\n",
    "        list_item.append(r)\n",
    "        rate_cmt = []\n",
    "        i += 1\n",
    "        rate_cmt.append(item['rate'])\n",
    "#    elif i == 5195:\n",
    "#         rate_cmt.append(item['rate'])\n",
    "#    elif index == len(data_cmts):\n",
    "#         rate_cmt.append(item['rate'])\n",
    "#         r = countmaxcmt(rate_cmt)\n",
    "#         list_item.append(r)\n",
    "        "
   ]
  },
  {
   "cell_type": "code",
   "execution_count": 12,
   "metadata": {},
   "outputs": [],
   "source": [
    "rate_items = np.array(list_item, dtype='int64')\n",
    "rate_item_xlabel = ['Không tốt', 'Tốt', 'Trung Bình']\n",
    "rate_item_data = []\n",
    "for i in range(0,3):\n",
    "    rate_item_data.append(np.count_nonzero( rate_items == i))"
   ]
  },
  {
   "cell_type": "code",
   "execution_count": 13,
   "metadata": {},
   "outputs": [
    {
     "data": {
      "text/plain": [
       "[595, 8877, 23]"
      ]
     },
     "execution_count": 13,
     "metadata": {},
     "output_type": "execute_result"
    }
   ],
   "source": [
    "rate_item_data"
   ]
  },
  {
   "cell_type": "code",
   "execution_count": 14,
   "metadata": {},
   "outputs": [
    {
     "data": {
      "image/png": "[encoded data removed]",
      "text/plain": [
       "<Figure size 720x504 with 1 Axes>"
      ]
     },
     "metadata": {},
     "output_type": "display_data"
    }
   ],
   "source": [
    "explode = (0.6,0.0, 0.9)\n",
    "\n",
    "# Creating autocpt arguments \n",
    "def func(pct, allvalues): \n",
    "    absolute = int(pct / 100.*np.sum(allvalues)) \n",
    "    return \"{:.1f}%\\n({:d} g)\".format(pct, absolute) \n",
    "\n",
    "fig = plt.figure(figsize =(10, 7)) \n",
    "plt.pie(rate_item_data,\n",
    "        autopct = lambda pct: func(pct, rate_item_data), \n",
    "        explode = explode,\n",
    "        labels = rate_item_xlabel) \n",
    "plt.show()"
   ]
  },
  {
   "cell_type": "markdown",
   "metadata": {},
   "source": [
    "### Đánh giá kết quả\n",
    "**93,5%** sản phẩm được đánh giá tốt,\n",
    "**6,3%** sản phẩm được đánh giá không tốt,\n",
    "**0,2%** sản phẩm được đánh giá trung bình"
   ]
  },
  {
   "cell_type": "markdown",
   "metadata": {},
   "source": [
    "## Đánh giá sản phẩm theo số rate lớn nhất"
   ]
  },
  {
   "cell_type": "code",
   "execution_count": 15,
   "metadata": {},
   "outputs": [],
   "source": [
    "def countmaxratecmt(rate):\n",
    "    cmt_5 = rate.count(5)\n",
    "    cmt_4 = rate.count(4)\n",
    "    cmt_3 = rate.count(3)\n",
    "    cmt_2 = rate.count(2)\n",
    "    cmt_1 = rate.count(1)\n",
    "    tg = [cmt_5, cmt_4, cmt_3, cmt_2, cmt_1 ]\n",
    "    if max(tg) == cmt_5:\n",
    "        return 5\n",
    "    elif max(tg) == cmt_4: \n",
    "        return 4\n",
    "    elif max(tg) == cmt_3: \n",
    "        return 3\n",
    "    elif max(tg) == cmt_2: \n",
    "        return 2\n",
    "    else:\n",
    "        return 1\n",
    "        "
   ]
  },
  {
   "cell_type": "code",
   "execution_count": 16,
   "metadata": {},
   "outputs": [],
   "source": [
    "rate_cmt = []\n",
    "list_item_rate = []\n",
    "i = 0 \n",
    "for index,item in enumerate(data_cmts):\n",
    "   if item['link'] == list_books[i]:\n",
    "        rate_cmt.append(item['rate'])\n",
    "   elif (i < count):\n",
    "        r = countmaxratecmt(rate_cmt)\n",
    "        list_item_rate.append(r)\n",
    "        rate_cmt = []\n",
    "        i += 1\n",
    "        rate_cmt.append(item['rate'])"
   ]
  },
  {
   "cell_type": "code",
   "execution_count": 17,
   "metadata": {},
   "outputs": [],
   "source": [
    "rate_c = np.array(list_item_rate, dtype='int64')\n",
    "rate_c_xlabel = [i for i in range(1,6)]\n",
    "rate_c_data = []\n",
    "for i in range(1,6):\n",
    "    rate_c_data.append(np.count_nonzero( rate_c == i))"
   ]
  },
  {
   "cell_type": "code",
   "execution_count": 19,
   "metadata": {},
   "outputs": [
    {
     "data": {
      "text/plain": [
       "[103, 239, 52, 216, 8885]"
      ]
     },
     "execution_count": 19,
     "metadata": {},
     "output_type": "execute_result"
    }
   ],
   "source": [
    "rate_c_data"
   ]
  },
  {
   "cell_type": "code",
   "execution_count": 21,
   "metadata": {},
   "outputs": [
    {
     "data": {
      "image/png": "[encoded data removed]",
      "text/plain": [
       "<Figure size 720x792 with 1 Axes>"
      ]
     },
     "metadata": {},
     "output_type": "display_data"
    }
   ],
   "source": [
    "explode = (0.6, 0.5, 0.4, 0.2, 0.0)\n",
    "\n",
    "# Creating autocpt arguments \n",
    "def func(pct, allvalues): \n",
    "    absolute = int(pct / 100.*np.sum(allvalues)) \n",
    "    return \"{:.1f}%\\n({:d} g)\".format(pct, absolute) \n",
    "\n",
    "fig = plt.figure(figsize =(10, 11)) \n",
    "plt.pie(rate_c_data,\n",
    "        autopct = lambda pct: func(pct, rate_c_data), \n",
    "        explode = explode,\n",
    "        labels = rate_c_xlabel) \n",
    "plt.show()"
   ]
  },
  {
   "cell_type": "markdown",
   "metadata": {},
   "source": [
    "### Đánh giá \n",
    "**1,1%** đánh giá 1 sao, \n",
    "**2,5%** đánh giá 2 sao,\n",
    "**0,5%** đánh giá 3 sao,\n",
    "**2,3%** đánh giá 4 sao,\n",
    "**93,6%** đánh giá 5 sao "
   ]
  },
  {
   "cell_type": "code",
   "execution_count": null,
   "metadata": {},
   "outputs": [],
   "source": []
  }
 ],
 "metadata": {
  "kernelspec": {
   "display_name": "Python 3",
   "language": "python",
   "name": "python3"
  },
  "language_info": {
   "codemirror_mode": {
    "name": "ipython",
    "version": 3
   },
   "file_extension": ".py",
   "mimetype": "text/x-python",
   "name": "python",
   "nbconvert_exporter": "python",
   "pygments_lexer": "ipython3",
   "version": "3.8.3"
  }
 },
 "nbformat": 4,
 "nbformat_minor": 4
}
