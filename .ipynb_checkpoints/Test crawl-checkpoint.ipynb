{
 "cells": [
  {
   "cell_type": "markdown",
   "metadata": {},
   "source": [
    "### Selenium"
   ]
  },
  {
   "cell_type": "code",
   "execution_count": 1,
   "metadata": {},
   "outputs": [],
   "source": [
    "# !pip install selenium"
   ]
  },
  {
   "cell_type": "code",
   "execution_count": 2,
   "metadata": {},
   "outputs": [],
   "source": [
    "from selenium import webdriver\n",
    "from selenium.webdriver.chrome.options import Options"
   ]
  },
  {
   "cell_type": "code",
   "execution_count": 3,
   "metadata": {},
   "outputs": [],
   "source": [
    "chrome_options = Options()\n",
    "chrome_options.add_argument(\"--incognito\")\n",
    "chrome_options.add_argument(\"--window-size=1920x1080\")"
   ]
  },
  {
   "cell_type": "code",
   "execution_count": 4,
   "metadata": {},
   "outputs": [
    {
     "name": "stderr",
     "output_type": "stream",
     "text": [
      "<ipython-input-4-8c8bbf8a6d4e>:1: DeprecationWarning: use options instead of chrome_options\n",
      "  driver = webdriver.Chrome(chrome_options=chrome_options, executable_path='./chromedriver')\n"
     ]
    }
   ],
   "source": [
    "driver = webdriver.Chrome(chrome_options=chrome_options, executable_path='./chromedriver')"
   ]
  },
  {
   "cell_type": "code",
   "execution_count": 10,
   "metadata": {},
   "outputs": [],
   "source": [
    "import time\n",
    "# url = \"https://tiki.vn/?src=header_tiki\"\n",
    "url= \"https://tiki.vn/dan-ong-sao-hoa-dan-ba-sao-kim-p10005245.html?src=category-page-8322&2hi=0\"\n",
    "driver.get(url)\n",
    "time.sleep(2)"
   ]
  },
  {
   "cell_type": "code",
   "execution_count": 6,
   "metadata": {},
   "outputs": [],
   "source": [
    "# ##Find elements with Selenium\n",
    "# #by_id\n",
    "# els = driver.find_elements_by_id(elementId)\n",
    "# #by css\n",
    "# els = driver.find_elements_by_css_selector(element_css_selector)\n",
    "# #by xpath\n",
    "# els = driver.find_elements_by_xpath(element_x_path)"
   ]
  },
  {
   "cell_type": "code",
   "execution_count": 24,
   "metadata": {},
   "outputs": [
    {
     "name": "stdout",
     "output_type": "stream",
     "text": [
      "10\n"
     ]
    },
    {
     "data": {
      "text/plain": [
       "['width: 20%;',\n",
       " 'width: 100%;',\n",
       " 'width: 100%;',\n",
       " 'width: 100%;',\n",
       " 'width: 60%;',\n",
       " 'width: 100%;',\n",
       " 'width: 20%;',\n",
       " 'width: 100%;',\n",
       " 'width: 40%;',\n",
       " 'width: 100%;']"
      ]
     },
     "execution_count": 24,
     "metadata": {},
     "output_type": "execute_result"
    }
   ],
   "source": [
    "e = driver.find_elements_by_xpath(\"//*[@class='Stars__StyledStars-sc-15olgyg-0 jucQbJ']/div[1]\")\n",
    "s = [el.get_attribute('style') for el in e]\n",
    "star = s[6:]\n",
    "print(len(star))\n",
    "star\n"
   ]
  },
  {
   "cell_type": "code",
   "execution_count": null,
   "metadata": {},
   "outputs": [],
   "source": []
  },
  {
   "cell_type": "code",
   "execution_count": 25,
   "metadata": {},
   "outputs": [
    {
     "name": "stdout",
     "output_type": "stream",
     "text": [
      "10\n"
     ]
    },
    {
     "data": {
      "text/plain": [
       "['Đây là lần đầu mình mua sách ở Tiki mà nhận được hàng hơi thất vọng như vầy, mở hàng ra còn có bụi bám ở bìa và phần trang sách. Còn phần bìa phía sau lại bị rách và không được mới nguyên vẹn. Mình luôn mong muốn sách mình đọc luôn mới nên khi thấy sách mới mua về thế này mình thấy không hài lòng chút nào!',\n",
       " 'nói chung mình định đọc hết rồi review cho các bạn cơ, nhưng đợt này mình ôn thi, mà tiki có treo giải nên mình review luôn cuốn này mình đọc hơn 1 nửa online rồi mua, thì mình thấy nó dạy ta cách hiểu tâm sinh lý người bạn đời hoặc người yêu của mình, tâm lý thì nhiều hơn, nói 1 số cách để xử lý tình huống, mình cũng có đọc cư xử như đàn bà hành động như đàn ông , thuật yêu đương và tại sao đàn ông thích tình dục phụ nữ cần tình yêu nữa, nói chung mỗi cuốn sẽ có 1 phong cách riêng, nhưng cũng khá nhiều điểm chung, vì đều nói tâm lý đàn ông và đàn bà mà, đàn ông đến từ sao hỏa đàn bà đến từ sao kim thì nhẹ nhàng hơn suy nghĩ như đàn ông cư xử như đàn bà và phân tích sâu về tâm lý 2 phái hơn',\n",
       " 'Lần đầu tiên mình viết đánh giá trên Tiki và cũng như về sách nên có thể mọi cảm nghĩ của mình khá chủ quan. Nhưng chí ít mình mong nó sẽ giúp được phần nào đó cho trải nghiệm của bạn được tốt hơn khi mua hàng. Điều đầu tiên là về ngoại hình của sản phẩm mà mình nhận được. Sách mới, chưa có nếp gấp hay dấu hiệu của việc đã mở ra (qua sử dụng). Tuy nhiên sách khá dơ, phần trên cùng bị dính một vài vệt đen mờ, trong không được đẹp mắt. Cách đóng quyển của sách khá lỗi, không mở mạnh tay vẫn bị bung rộng nên khá khó khăn trong việc giữ sách mới lâu. Phần này chắc là 4 sao. Tiếp theo là về cách làm việc của Tiki. Sách giao đúng hẹn, nhân viên giao hàng lịch sự, niềm nở. Đóng gói sơ sài quá khi không có bọc nilong riêng cho từng cuốn hay chèn giấy để tránh bị móp méo sách. Mình đánh giá 4 sao cho Tiki. Điều cuối cùng là về nội dung sách. Sách hay, nói rất chuẩn sát về tâm lí của nam và nữ đến mức đôi lúc còn khiến mình giật mình như đang nói về mình và bạn trai/bạn trai cũ. Nhưng giọng văn đôi chỗ khá lan man gây mất tập trung. Sách thật sự có tác dụng cao trong việc cải thiện mối quan hệ hôn nhân hoặc tiền hôn nhân nếu thật sự thẩm thấu và làm đúng theo công thức của sách kết hợp với sự đặc trưng riêng trong tính cách của nữa kia. Theo mình đánh giá thì phụ nữ nên đọc qua ít nhất 1 lần những cuốn sách thể loại này nói chung và cá nhân cuốn sách “Đàn ông sao Hoả, đàn bà sao Kim” nói riêng. Không chỉ giúp cải thiện mối quan hệ, còn lí giải được rất nhiều vấn đề về tâm lý giới tính mà bản thân bạn ít nhất từng tự hỏi mình 1 lần trong đời, giảm thiểu một phần những mâu thuẫn không đáng có trong tình cảm. Và đặc biệt là khiến bản thân bớt lo lắng và tận hưởng được hạnh phúc trong tình yêu một cách trọn vẹn hơn. Về phần này, mình xin đánh giá 5 sao cho nội dung khá hoàn thiện của tác giả.',\n",
       " 'Mình đã nghe cái tên Đàn ông sao Hỏa đàn bà sao Kim từ rất lâu. Hôm rồi thấy có cái bìa mới này hấp dẫn quá đặt mua luôn. Công nhận những điều John Gray nói rất lý trí. Việc hiểu nhau sẽ giúp các cặp vợ chồng yêu thương, thông cảm và chia sẻ cho nhau nhiều hơn. Chắc mình mua đc sách mới tái bản hay sao á, không thấy có lỗi chính tả như nhận xét của một số bạn khác.',\n",
       " 'Mình không thể đánh giá sao thấp vì nội dung của cuốn sách rất hay, mà độc giả hầu hết nhìn vào số sao để chấm rằng sách hay hay không, nhưng không vì vậy mà mình không trừ 2 sao cho việc Tiki đã giao 1 quyển sách bị \"cũ\" như vậy (tuy rằng mình không hay chú ý đến bìa sách lắm, nhưng lỗi này nhìn vào là thấy liền, không thể không nói được) Mình vừa đọc đến 30 trang đầu, và ở trang 26 bị lặp chữ \"mối quan quan hệ\", góp ý cho nhà xuất bản giúp mình để lần tái bản sau những lỗi vặt như vậy không xảy ra nữa, xin cảm ơn ❤',\n",
       " 'Tuyệt vời cho người như mình. Muốn hiểu về tâm lý không chỉ đơn thuần của riêng đàn ông để cua trai hay gì kkkk, mà mình muốn hiểu hơn cả về giới mình để có cách ứng xử, giao tiếp theo hướng tốt hơn, hoàn thiện hơn với cả 2 phái thì đây là quyển sách thực sự giúp mình rất nhiều.',\n",
       " 'Tiki làm mình thật sự không hài lòng cho đợt giao sách này, thường thì các lỗi về mép sách thì mình thường bỏ qua chứ về lỗi in trùng nôi dung thiếu trang thì không thể bỏ qua được, hy vọng bên Tiki có cách để giải quyết vấn đề này giúp mình, mình xin cám ơn',\n",
       " 'Mình trước giờ mua sách chỉ vài lần trên tiki, nhưng lại rất may mắn khi chưa bao giờ mình nhận cuốn sách nào bị móp méo cả. Giao hàng lại đúng thời gian, có khi giao nhanh hơn. Tuy chỉ mới đọc được 2 chương đầu khi vừa đập hộp êm ngày hôm qua. Nhưng lại bị cuốn hút ẻm từ sự thực tế của giá trị cuốn sách mang lại. Một quyển sách đáng để dành thời gian đọc, để tìm kiếm lại đúng giá trị của bản thân và xây dựng cho các mối quan hệ xung quanh trở nên tốt đẹp hơn. Cám ơn tiki rất nhiều nhé.',\n",
       " 'Luôn tin tưởng và chọn mua sách qua Tiki nhưng lần này chất lượng sản phẩm không như mình mong đợi. Nếu như sách bị lỗi do mực in, nội dung... thì đó ko phải do Tiki, hoặc lỗi ở các trang bên trong khó thấy thì có thể bỏ qua, nhưng bìa sách (cái có thể dễ dàng nhìn thấy được) bị lỗi mà Tiki vẫn quyết định giao một sản phẩm như thế cho khách hàng thì thật đáng thất vọng.',\n",
       " 'Ai chưa lập gia đình hay đã lập gia đình hay như tôi đang trong tình trạng tồi tệ của hôn nhân hay là những người đã li hôn thì cũng nên đọc quyển sách này. Hiểu mình hiểu bạn đời, trăm trận trăm thắng. Đừng để đến khi quá muộn mới thay đổi. Chúc bạn hạnh phúc!']"
      ]
     },
     "execution_count": 25,
     "metadata": {},
     "output_type": "execute_result"
    }
   ],
   "source": [
    "elements = driver.find_elements_by_xpath(\"//*[@class='review-comment__content']\")\n",
    "storyTitles = [el.text for el in elements]\n",
    "print(len(storyTitles))\n",
    "storyTitles"
   ]
  },
  {
   "cell_type": "code",
   "execution_count": 13,
   "metadata": {},
   "outputs": [
    {
     "data": {
      "text/plain": [
       "['Sách cũ không phải mới',\n",
       " 'mới đọc sương sương',\n",
       " 'Khá hài lòng',\n",
       " 'Sách rất hay, dù bạn đang yêu, mới cưới hay cưới nhau đã lâu thì cũng nên đọc',\n",
       " 'Bình thường',\n",
       " 'Cực kì hài lòng',\n",
       " 'Sách in bị trùng nội dung, thiếu trang từ 241 đến 256',\n",
       " 'Một quyển sách đáng để đọc ❤️',\n",
       " 'BÌA SÁCH BỊ GÃY',\n",
       " 'Cực kì hài lòng']"
      ]
     },
     "execution_count": 13,
     "metadata": {},
     "output_type": "execute_result"
    }
   ],
   "source": [
    "elements1 = driver.find_elements_by_xpath(\"//*[@class='review-comment__title']\")\n",
    "rate = [el.text for el in elements1]\n",
    "rate"
   ]
  },
  {
   "cell_type": "code",
   "execution_count": 4,
   "metadata": {},
   "outputs": [],
   "source": [
    "import time\n",
    "# url = \"https://tiki.vn/?src=header_tiki\"\n",
    "url= \"https://tiki.vn/nha-sach-tiki/c8322?src=c.8322.hamburger_menu_fly_out_banner\"\n",
    "driver.get(url)\n",
    "time.sleep(2)"
   ]
  },
  {
   "cell_type": "code",
   "execution_count": 8,
   "metadata": {},
   "outputs": [
    {
     "ename": "SyntaxError",
     "evalue": "invalid syntax (<ipython-input-8-4406a16a32e9>, line 1)",
     "output_type": "error",
     "traceback": [
      "\u001b[1;36m  File \u001b[1;32m\"<ipython-input-8-4406a16a32e9>\"\u001b[1;36m, line \u001b[1;32m1\u001b[0m\n\u001b[1;33m    items = driver.find_elements_by_xpath(\"//*[contains(concat( \" \", @class, \" \" ), concat( \" \", \"product-item\", \" \" ))]\")\u001b[0m\n\u001b[1;37m                                                                                                  ^\u001b[0m\n\u001b[1;31mSyntaxError\u001b[0m\u001b[1;31m:\u001b[0m invalid syntax\n"
     ]
    }
   ],
   "source": [
    "items = driver.find_elements_by_xpath(\"//*[@class='product-item']/a/@href\")\n",
    "items"
   ]
  },
  {
   "cell_type": "code",
   "execution_count": 1,
   "metadata": {},
   "outputs": [],
   "source": [
    "import csv\n",
    "import numpy as np\n",
    "import Zip"
   ]
  },
  {
   "cell_type": "code",
   "execution_count": 2,
   "metadata": {},
   "outputs": [],
   "source": [
    "col1 = [ 1, 2, 3, 4]\n",
    "col2 = ['ss', 's', 'r', 'n']"
   ]
  },
  {
   "cell_type": "code",
   "execution_count": 5,
   "metadata": {},
   "outputs": [],
   "source": [
    "np.savetxt('data.csv', (col1, col2), delimiter=',',  fmt='%s')"
   ]
  },
  {
   "cell_type": "code",
   "execution_count": null,
   "metadata": {},
   "outputs": [],
   "source": []
  }
 ],
 "metadata": {
  "kernelspec": {
   "display_name": "Python 3",
   "language": "python",
   "name": "python3"
  },
  "language_info": {
   "codemirror_mode": {
    "name": "ipython",
    "version": 3
   },
   "file_extension": ".py",
   "mimetype": "text/x-python",
   "name": "python",
   "nbconvert_exporter": "python",
   "pygments_lexer": "ipython3",
   "version": "3.8.3"
  }
 },
 "nbformat": 4,
 "nbformat_minor": 4
}
