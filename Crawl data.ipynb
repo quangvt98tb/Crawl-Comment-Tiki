{
 "cells": [
  {
   "cell_type": "code",
   "execution_count": 5,
   "metadata": {},
   "outputs": [],
   "source": [
    "from selenium import webdriver\n",
    "from selenium.webdriver.chrome.options import Options"
   ]
  },
  {
   "cell_type": "code",
   "execution_count": 6,
   "metadata": {},
   "outputs": [],
   "source": [
    "chrome_options = Options()\n",
    "chrome_options.add_argument(\"--incognito\")\n",
    "chrome_options.add_argument(\"--window-size=1920x1080\")"
   ]
  },
  {
   "cell_type": "code",
   "execution_count": 7,
   "metadata": {},
   "outputs": [
    {
     "name": "stderr",
     "output_type": "stream",
     "text": [
      "<ipython-input-7-8c8bbf8a6d4e>:1: DeprecationWarning: use options instead of chrome_options\n",
      "  driver = webdriver.Chrome(chrome_options=chrome_options, executable_path='./chromedriver')\n"
     ]
    }
   ],
   "source": [
    "driver = webdriver.Chrome(chrome_options=chrome_options, executable_path='./chromedriver')"
   ]
  },
  {
   "cell_type": "markdown",
   "metadata": {},
   "source": [
    "### Crawl Links"
   ]
  },
  {
   "cell_type": "code",
   "execution_count": 12,
   "metadata": {
    "scrolled": false
   },
   "outputs": [],
   "source": [
    "url= \"https://tiki.vn/nha-sach-tiki/c8322?src=c.8322.hamburger_menu_fly_out_banner&page=\""
   ]
  },
  {
   "cell_type": "code",
   "execution_count": 13,
   "metadata": {},
   "outputs": [
    {
     "name": "stdout",
     "output_type": "stream",
     "text": [
      "Wall time: 1min 56s\n"
     ]
    }
   ],
   "source": [
    "%%time\n",
    "import time\n",
    "\n",
    "links = []\n",
    "for i in range(1,2):\n",
    "    driver.get(url + str(i))\n",
    "    driver.execute_script(\"window.scrollTo(0,document.body.scrollHeight)\") # Đoạn scrip để scroll trang web\n",
    "    time.sleep(10)\n",
    "    \n",
    "    elem = driver.find_elements_by_xpath(\"//a[@class='product-item']\")\n",
    "  \n",
    "    lt = []\n",
    "    lt = [el for el in elem]\n",
    "    for l in lt:\n",
    "        links.append(l.get_attribute('href'))"
   ]
  },
  {
   "cell_type": "code",
   "execution_count": 6,
   "metadata": {},
   "outputs": [
    {
     "data": {
      "text/plain": [
       "['https://tiki.vn/con-chim-xanh-biec-bay-ve-nguyen-nhat-anh-bia-mem-p72202103.html',\n",
       " 'https://tiki.vn/to-binh-yen-ve-hanh-phuc-p63190447.html',\n",
       " 'https://tiki.vn/thay-doi-cuoc-song-voi-nhan-so-hoc-p71345381.html',\n",
       " 'https://tiki.vn/dan-ong-sao-hoa-dan-ba-sao-kim-p10005245.html',\n",
       " 'https://tiki.vn/may-tinh-khoa-hoc-casio-fx-580vn-x-p3014291.html',\n",
       " 'https://tiki.vn/dung-lua-chon-an-nhan-khi-con-tre-p11232442.html',\n",
       " 'https://tiki.vn/suc-manh-cua-ngon-tu-tang-kem-1-photocard-mintbooks-limited-p57870426.html',\n",
       " 'https://tiki.vn/10-phut-tinh-tam-71-thoi-quen-can-bang-cuoc-song-hien-dai-p14378792.html',\n",
       " 'https://tiki.vn/sapiens-luoc-su-loai-nguoi-tai-ban-co-chinh-sua-p888553.html',\n",
       " 'https://tiki.vn/tu-dien-tieng-em-p71907876.html',\n",
       " 'https://tiki.vn/nong-gian-la-ban-nang-tinh-lang-la-ban-linh-p26114399.html',\n",
       " 'https://tiki.vn/quen-mot-nguoi-la-chuyen-cua-thoi-gian-p72886463.html',\n",
       " 'https://tiki.vn/toi-quyet-dinh-song-cho-chinh-toi-tang-kem-1-so-to-do-list-2020-p46107062.html',\n",
       " 'https://tiki.vn/muon-kiep-nhan-sinh-many-lives-many-times-p54748899.html',\n",
       " 'https://tiki.vn/mindmap-english-grammar-ngu-phap-tieng-anh-bang-so-do-tu-duy-p6926849.html',\n",
       " 'https://tiki.vn/bien-nien-co-don-p72542474.html',\n",
       " 'https://tiki.vn/tuoi-tre-dang-gia-bao-nhieu-tai-ban-p7718733.html',\n",
       " 'https://tiki.vn/the-gioi-se-chang-co-gi-thay-doi-ke-ca-khi-ban-khoc-tang-kem-postcard-p45123835.html',\n",
       " 'https://tiki.vn/vui-ve-khong-quau-nha-tan-van-p50751279.html',\n",
       " 'https://tiki.vn/tu-hoc-2000-tu-vung-tieng-anh-theo-chu-de-p1007137.html',\n",
       " 'https://tiki.vn/con-chim-xanh-biec-bay-ve-nguyen-nhat-anh-bia-cung-p72199563.html',\n",
       " 'https://tiki.vn/giai-ma-sieu-tri-nho-p58864689.html',\n",
       " 'https://tiki.vn/muon-kiep-nhan-sinh-kho-nho-p69219919.html',\n",
       " 'https://tiki.vn/hai-so-phan-bia-cung-p4940239.html',\n",
       " 'https://tiki.vn/dac-nhan-tam-kho-lon-p480040.html',\n",
       " 'https://tiki.vn/nha-gia-kim-p378448.html',\n",
       " 'https://tiki.vn/thien-tai-ben-trai-ke-dien-ben-phai-p19963125.html',\n",
       " 'https://tiki.vn/so-ke-hoach-nhat-ky-365-ngay-life-planner-tang-kem-2-tam-sticker-mini-p11838843.html',\n",
       " 'https://tiki.vn/troi-sinh-vung-ve-hay-bu-dap-bang-su-kien-tri-p66398387.html',\n",
       " 'https://tiki.vn/sieu-co-how-to-be-a-power-connector-p57110087.html',\n",
       " 'https://tiki.vn/999-la-thu-gui-cho-chinh-minh-mong-ban-tro-thanh-phien-ban-hoan-hao-nhat-p5143339.html',\n",
       " 'https://tiki.vn/can-bang-cam-xuc-ca-luc-bao-giong-p14462349.html',\n",
       " 'https://tiki.vn/cang-ky-luat-cang-tu-do-p68585576.html',\n",
       " 'https://tiki.vn/the-gioi-rong-lon-long-nguoi-chat-hep-tang-kem-1-bookmark-p70016690.html',\n",
       " 'https://tiki.vn/mat-biec-tai-ban-2019-p24951095.html',\n",
       " 'https://tiki.vn/giai-thich-ngu-phap-tieng-anh-tai-ban-2020-p52611842.html',\n",
       " 'https://tiki.vn/chu-nghia-khac-ky-phong-cach-song-ban-linh-va-binh-than-p49459956.html',\n",
       " 'https://tiki.vn/thuat-doc-tam-p37890741.html',\n",
       " 'https://tiki.vn/khi-hoi-tho-hoa-thinh-khong-p750578.html',\n",
       " 'https://tiki.vn/the-book-of-leadership-dan-dat-ban-than-doi-nhom-va-to-chuc-vuon-xa-p9687403.html',\n",
       " 'https://tiki.vn/combo-truyen-tranh-song-ngu-viet-anh-cho-be-12-tap-p48592472.html',\n",
       " 'https://tiki.vn/thanh-guom-diet-quy-tap-20-trai-tim-kien-dinh-dan-loi-p73183593.html',\n",
       " 'https://tiki.vn/combo-999-la-thu-gui-cho-chinh-minh-tang-kem-bookmark-tron-bo-2-tap-p11081535.html',\n",
       " 'https://tiki.vn/doi-ngan-dung-ngu-dai-tai-ban-p8835159.html',\n",
       " 'https://tiki.vn/combo-sherlock-holmes-toan-tap-tron-bo-3-tap-p545278.html',\n",
       " 'https://tiki.vn/buoc-cham-lai-giua-the-gian-voi-va-tai-ban-p3639597.html',\n",
       " 'https://tiki.vn/tony-buoi-sang-tren-duong-bang-tai-ban-2017-p1005148.html',\n",
       " 'https://tiki.vn/toi-tung-nghi-moi-thu-se-on-khi-tro-thanh-nguoi-lon-tang-kem-1-bookmark-p56692532.html']"
      ]
     },
     "execution_count": 6,
     "metadata": {},
     "output_type": "execute_result"
    }
   ],
   "source": [
    "links"
   ]
  },
  {
   "cell_type": "code",
   "execution_count": 7,
   "metadata": {},
   "outputs": [
    {
     "name": "stdout",
     "output_type": "stream",
     "text": [
      "48\n"
     ]
    }
   ],
   "source": [
    "print(len(links))"
   ]
  },
  {
   "cell_type": "markdown",
   "metadata": {},
   "source": [
    "### Save link to file csv"
   ]
  },
  {
   "cell_type": "code",
   "execution_count": 16,
   "metadata": {},
   "outputs": [],
   "source": [
    "# import csv\n",
    "# import numpy as np\n",
    "\n",
    "# filename = 'links.csv'\n",
    "# l = np.array(links)\n",
    "# with open(filename, 'w', newline='') as csvfile:\n",
    "#     writer = csv.writer(csvfile, delimiter=',')\n",
    "#     for row in range(0,l.shape[0]):\n",
    "#         myList = []\n",
    "#         myList.append(l[row])\n",
    "#         writer.writerow(myList)\n",
    "    "
   ]
  },
  {
   "cell_type": "markdown",
   "metadata": {},
   "source": [
    "### Read file csv"
   ]
  },
  {
   "cell_type": "code",
   "execution_count": 15,
   "metadata": {},
   "outputs": [
    {
     "data": {
      "text/html": [
       "<div>\n",
       "<style scoped>\n",
       "    .dataframe tbody tr th:only-of-type {\n",
       "        vertical-align: middle;\n",
       "    }\n",
       "\n",
       "    .dataframe tbody tr th {\n",
       "        vertical-align: top;\n",
       "    }\n",
       "\n",
       "    .dataframe thead th {\n",
       "        text-align: right;\n",
       "    }\n",
       "</style>\n",
       "<table border=\"1\" class=\"dataframe\">\n",
       "  <thead>\n",
       "    <tr style=\"text-align: right;\">\n",
       "      <th></th>\n",
       "      <th>0</th>\n",
       "    </tr>\n",
       "  </thead>\n",
       "  <tbody>\n",
       "    <tr>\n",
       "      <th>0</th>\n",
       "      <td>https://tiki.vn/con-chim-xanh-biec-bay-ve-nguy...</td>\n",
       "    </tr>\n",
       "    <tr>\n",
       "      <th>1</th>\n",
       "      <td>https://tiki.vn/thay-doi-cuoc-song-voi-nhan-so...</td>\n",
       "    </tr>\n",
       "    <tr>\n",
       "      <th>2</th>\n",
       "      <td>https://tiki.vn/to-binh-yen-ve-hanh-phuc-p6319...</td>\n",
       "    </tr>\n",
       "    <tr>\n",
       "      <th>3</th>\n",
       "      <td>https://tiki.vn/muon-kiep-nhan-sinh-many-lives...</td>\n",
       "    </tr>\n",
       "    <tr>\n",
       "      <th>4</th>\n",
       "      <td>https://tiki.vn/bien-nien-co-don-p72542474.html</td>\n",
       "    </tr>\n",
       "    <tr>\n",
       "      <th>...</th>\n",
       "      <td>...</td>\n",
       "    </tr>\n",
       "    <tr>\n",
       "      <th>9393</th>\n",
       "      <td>https://tiki.vn/ngu-phap-tieng-anh-8-luyen-ki-...</td>\n",
       "    </tr>\n",
       "    <tr>\n",
       "      <th>9394</th>\n",
       "      <td>https://tiki.vn/nguoi-bien-mat-p42057383.html</td>\n",
       "    </tr>\n",
       "    <tr>\n",
       "      <th>9395</th>\n",
       "      <td>https://tiki.vn/lich-de-ban-a-2021-giao-2-hinh...</td>\n",
       "    </tr>\n",
       "    <tr>\n",
       "      <th>9396</th>\n",
       "      <td>https://tiki.vn/tieng-han-co-ban-cung-cheri-hy...</td>\n",
       "    </tr>\n",
       "    <tr>\n",
       "      <th>9397</th>\n",
       "      <td>https://tiki.vn/the-life-changing-magic-of-tid...</td>\n",
       "    </tr>\n",
       "  </tbody>\n",
       "</table>\n",
       "<p>9398 rows × 1 columns</p>\n",
       "</div>"
      ],
      "text/plain": [
       "                                                      0\n",
       "0     https://tiki.vn/con-chim-xanh-biec-bay-ve-nguy...\n",
       "1     https://tiki.vn/thay-doi-cuoc-song-voi-nhan-so...\n",
       "2     https://tiki.vn/to-binh-yen-ve-hanh-phuc-p6319...\n",
       "3     https://tiki.vn/muon-kiep-nhan-sinh-many-lives...\n",
       "4       https://tiki.vn/bien-nien-co-don-p72542474.html\n",
       "...                                                 ...\n",
       "9393  https://tiki.vn/ngu-phap-tieng-anh-8-luyen-ki-...\n",
       "9394      https://tiki.vn/nguoi-bien-mat-p42057383.html\n",
       "9395  https://tiki.vn/lich-de-ban-a-2021-giao-2-hinh...\n",
       "9396  https://tiki.vn/tieng-han-co-ban-cung-cheri-hy...\n",
       "9397  https://tiki.vn/the-life-changing-magic-of-tid...\n",
       "\n",
       "[9398 rows x 1 columns]"
      ]
     },
     "execution_count": 15,
     "metadata": {},
     "output_type": "execute_result"
    }
   ],
   "source": [
    "# read file csv \n",
    "filename = 'links.csv'\n",
    "\n",
    "import pandas as pd\n",
    "\n",
    "links_data = pd.read_csv(filename, header=None)\n",
    "links_data\n"
   ]
  },
  {
   "cell_type": "code",
   "execution_count": 16,
   "metadata": {},
   "outputs": [
    {
     "data": {
      "text/plain": [
       "0       https://tiki.vn/con-chim-xanh-biec-bay-ve-nguy...\n",
       "1       https://tiki.vn/thay-doi-cuoc-song-voi-nhan-so...\n",
       "2       https://tiki.vn/to-binh-yen-ve-hanh-phuc-p6319...\n",
       "3       https://tiki.vn/muon-kiep-nhan-sinh-many-lives...\n",
       "4         https://tiki.vn/bien-nien-co-don-p72542474.html\n",
       "                              ...                        \n",
       "9393    https://tiki.vn/ngu-phap-tieng-anh-8-luyen-ki-...\n",
       "9394        https://tiki.vn/nguoi-bien-mat-p42057383.html\n",
       "9395    https://tiki.vn/lich-de-ban-a-2021-giao-2-hinh...\n",
       "9396    https://tiki.vn/tieng-han-co-ban-cung-cheri-hy...\n",
       "9397    https://tiki.vn/the-life-changing-magic-of-tid...\n",
       "Name: 0, Length: 9398, dtype: object"
      ]
     },
     "execution_count": 16,
     "metadata": {},
     "output_type": "execute_result"
    }
   ],
   "source": [
    "links = links_data[0]\n",
    "links"
   ]
  },
  {
   "cell_type": "code",
   "execution_count": 17,
   "metadata": {},
   "outputs": [],
   "source": [
    "# transform width into rate \n",
    "def rating(r):              \n",
    "    rate = [i for i in range(0,len(r))]\n",
    "    for i in range(0,len(r)):\n",
    "        if (r[i] == 'width: 20%;'):\n",
    "            rate[i] = 1\n",
    "        elif (r[i] == 'width: 40%;'):\n",
    "            rate[i] = 2\n",
    "        elif (r[i] == 'width: 60%;'):\n",
    "            rate[i] = 3\n",
    "        elif (r[i] == 'width: 80%;'):\n",
    "            rate[i] = 4\n",
    "        else:\n",
    "            rate[i] = 5\n",
    "    return rate\n",
    "        "
   ]
  },
  {
   "cell_type": "code",
   "execution_count": 18,
   "metadata": {},
   "outputs": [],
   "source": [
    "# dumps data \n",
    "def dumps_data(a,b,c, link):\n",
    "    data = []\n",
    "    if (len(a) ==0 ) or (len(b) == 0) or (len(a) != len(b)):\n",
    "        data = []\n",
    "        return data\n",
    "    else:\n",
    "        for i in range(0,len(a)):\n",
    "            t = {}\n",
    "            t['rate'] = a[i]\n",
    "            if b[i] == '':\n",
    "                t['content'] = c[i]\n",
    "            else: \n",
    "                t['content'] = b[i]\n",
    "            t['link'] = link\n",
    "            data.append(t)\n",
    "    return data\n",
    "    "
   ]
  },
  {
   "cell_type": "markdown",
   "metadata": {},
   "source": [
    "### Crawl comments"
   ]
  },
  {
   "cell_type": "code",
   "execution_count": 33,
   "metadata": {
    "scrolled": false
   },
   "outputs": [],
   "source": [
    "from selenium.common.exceptions import TimeoutException\n",
    "from selenium.common.exceptions import NoSuchElementException\n",
    "import time\n",
    "\n",
    "data = []\n",
    "for link in links[1:len(links)]:\n",
    "    driver.get(link)\n",
    "    try:\n",
    "        driver.execute_script(\"window.scrollTo(0,document.body.scrollHeight)\") # Đoạn scrip để scroll trang web\n",
    "        time.sleep(23)\n",
    "        # lay rating cho cmt\n",
    "        rate = driver.find_elements_by_xpath(\"//*[@class='Stars__StyledStars-sc-15olgyg-0 jucQbJ']/div[1]\")\n",
    "        ratingg = [el.get_attribute('style') for el in rate]\n",
    "        star = ratingg[6:]\n",
    "\n",
    "        elements = driver.find_elements_by_xpath(\"//*[@class='review-comment__content']\")\n",
    "        comments = [el.text for el in elements]\n",
    "        \n",
    "        elements1 = driver.find_elements_by_xpath(\"//*[@class='review-comment__title']\")\n",
    "        titles = [el.text for el in elements1]\n",
    "        \n",
    "        rate_s = rating(star)\n",
    "        datas_link = dumps_data(rate_s, comments, titles, link)\n",
    "        \n",
    "        data.extend(datas_link)\n",
    "    except NoSuchElementException:\n",
    "        data.append(None)     \n",
    "    "
   ]
  },
  {
   "cell_type": "code",
   "execution_count": 34,
   "metadata": {},
   "outputs": [
    {
     "data": {
      "text/plain": [
       "8407"
      ]
     },
     "execution_count": 34,
     "metadata": {},
     "output_type": "execute_result"
    }
   ],
   "source": [
    "len(data)"
   ]
  },
  {
   "cell_type": "code",
   "execution_count": 29,
   "metadata": {},
   "outputs": [],
   "source": [
    "# save data to file json\n",
    "import json\n",
    "with open(\"comments.json\", \"w\") as outfile: \n",
    "    json.dump(data, outfile)"
   ]
  },
  {
   "cell_type": "code",
   "execution_count": 14,
   "metadata": {},
   "outputs": [],
   "source": [
    "# read data open file json\n",
    "import json \n",
    "with open('comments.json', \"r\") as f:\n",
    "    data = json.loads(f.read())"
   ]
  },
  {
   "cell_type": "markdown",
   "metadata": {},
   "source": [
    "### Test link crawl"
   ]
  },
  {
   "cell_type": "code",
   "execution_count": 19,
   "metadata": {},
   "outputs": [],
   "source": [
    "import time\n",
    "driver.get(links[8000])\n",
    "driver.execute_script(\"window.scrollTo(0,document.body.scrollHeight)\") # Đoạn scrip để scroll trang web\n",
    "time.sleep(25)\n",
    "\n",
    "e = driver.find_elements_by_xpath(\"//*[@class='Stars__StyledStars-sc-15olgyg-0 jucQbJ']/div[1]\")\n",
    "s = [el.get_attribute('style') for el in e]\n",
    "star = s[6:]\n",
    "\n",
    "elements = driver.find_elements_by_xpath(\"//*[@class='review-comment__content']\")\n",
    "storyTitles = [el.text for el in elements]\n",
    "\n",
    "elements1 = driver.find_elements_by_xpath(\"//*[@class='review-comment__title']\")\n",
    "titles = [el.text for el in elements1]\n"
   ]
  },
  {
   "cell_type": "code",
   "execution_count": 20,
   "metadata": {},
   "outputs": [],
   "source": [
    "tg = dumps_data(rating(star), storyTitles, titles, links[1])"
   ]
  },
  {
   "cell_type": "code",
   "execution_count": 21,
   "metadata": {},
   "outputs": [
    {
     "data": {
      "text/plain": [
       "[{'rate': 4,\n",
       "  'content': 'Sách cô đọng, xúc tích, dễ hiểu và có thể áp dụng được. Mình vote 4 sao vì không thích cách sắp xếp của các \"ghi chú của Ted\" cho lắm. Các note được sắp xếp xen với nội dung, bất chợt. Điều này làm cắt ngang cảm xúc, suy nghĩ của mình khi đang đọc',\n",
       "  'link': 'https://tiki.vn/thay-doi-cuoc-song-voi-nhan-so-hoc-p71345381.html'},\n",
       " {'rate': 3,\n",
       "  'content': 'Cuốn sách cũng không có gì quá nổi bật, những kiến thức mà nó cung cấp có thể tất cả chúng ta đều biết tuy nhiên có thể áp dụng được nó là một điều rất tốt!',\n",
       "  'link': 'https://tiki.vn/thay-doi-cuoc-song-voi-nhan-so-hoc-p71345381.html'},\n",
       " {'rate': 5,\n",
       "  'content': 'Tiki Phục vụ tốt, giao hàng nhanh, đóng gói ok, nội dung mình chưa đọc.',\n",
       "  'link': 'https://tiki.vn/thay-doi-cuoc-song-voi-nhan-so-hoc-p71345381.html'},\n",
       " {'rate': 1,\n",
       "  'content': 'Đóng gói sản phẩm sơ sài.. hở sản phẩm ra khỏi bọc đóng gói...',\n",
       "  'link': 'https://tiki.vn/thay-doi-cuoc-song-voi-nhan-so-hoc-p71345381.html'},\n",
       " {'rate': 5,\n",
       "  'content': 'Mình mua 1 cuốn mà ko hiểu sao bấm nhầm 2 cuốn gửi lại shop đk ko a',\n",
       "  'link': 'https://tiki.vn/thay-doi-cuoc-song-voi-nhan-so-hoc-p71345381.html'},\n",
       " {'rate': 5,\n",
       "  'content': 'Rất hài lòng về sản phẩm, lần sau tiếp tục mua ở tiki',\n",
       "  'link': 'https://tiki.vn/thay-doi-cuoc-song-voi-nhan-so-hoc-p71345381.html'},\n",
       " {'rate': 5,\n",
       "  'content': 'Sản phẩm ổn, nội dung hay.',\n",
       "  'link': 'https://tiki.vn/thay-doi-cuoc-song-voi-nhan-so-hoc-p71345381.html'},\n",
       " {'rate': 4,\n",
       "  'content': 'Rất hay, rất ý nghĩa',\n",
       "  'link': 'https://tiki.vn/thay-doi-cuoc-song-voi-nhan-so-hoc-p71345381.html'},\n",
       " {'rate': 4,\n",
       "  'content': 'Hài lòng về sách nhưng chất liệu giấy không tốt nắm, nên cho 4 sao!',\n",
       "  'link': 'https://tiki.vn/thay-doi-cuoc-song-voi-nhan-so-hoc-p71345381.html'},\n",
       " {'rate': 5,\n",
       "  'content': 'Cực kì hài lòng',\n",
       "  'link': 'https://tiki.vn/thay-doi-cuoc-song-voi-nhan-so-hoc-p71345381.html'}]"
      ]
     },
     "execution_count": 21,
     "metadata": {},
     "output_type": "execute_result"
    }
   ],
   "source": [
    "tg"
   ]
  },
  {
   "cell_type": "code",
   "execution_count": null,
   "metadata": {},
   "outputs": [],
   "source": []
  }
 ],
 "metadata": {
  "kernelspec": {
   "display_name": "Python 3",
   "language": "python",
   "name": "python3"
  },
  "language_info": {
   "codemirror_mode": {
    "name": "ipython",
    "version": 3
   },
   "file_extension": ".py",
   "mimetype": "text/x-python",
   "name": "python",
   "nbconvert_exporter": "python",
   "pygments_lexer": "ipython3",
   "version": "3.8.3"
  }
 },
 "nbformat": 4,
 "nbformat_minor": 4
}
