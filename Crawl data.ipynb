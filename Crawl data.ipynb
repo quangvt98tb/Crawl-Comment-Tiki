{
 "cells": [
  {
   "cell_type": "code",
   "execution_count": 1,
   "metadata": {},
   "outputs": [],
   "source": [
    "from selenium import webdriver\n",
    "from selenium.webdriver.chrome.options import Options"
   ]
  },
  {
   "cell_type": "code",
   "execution_count": 2,
   "metadata": {},
   "outputs": [],
   "source": [
    "chrome_options = Options()\n",
    "chrome_options.add_argument(\"--incognito\")\n",
    "chrome_options.add_argument(\"--window-size=1920x1080\")"
   ]
  },
  {
   "cell_type": "code",
   "execution_count": 3,
   "metadata": {},
   "outputs": [
    {
     "name": "stderr",
     "output_type": "stream",
     "text": [
      "<ipython-input-3-8c8bbf8a6d4e>:1: DeprecationWarning: use options instead of chrome_options\n",
      "  driver = webdriver.Chrome(chrome_options=chrome_options, executable_path='./chromedriver')\n"
     ]
    }
   ],
   "source": [
    "driver = webdriver.Chrome(chrome_options=chrome_options, executable_path='./chromedriver')"
   ]
  },
  {
   "cell_type": "markdown",
   "metadata": {},
   "source": [
    "### Crawl Links"
   ]
  },
  {
   "cell_type": "code",
   "execution_count": 4,
   "metadata": {
    "scrolled": false
   },
   "outputs": [],
   "source": [
    "url= \"https://tiki.vn/nha-sach-tiki/c8322?src=c.8322.hamburger_menu_fly_out_banner&page=\""
   ]
  },
  {
   "cell_type": "code",
   "execution_count": 5,
   "metadata": {},
   "outputs": [
    {
     "name": "stdout",
     "output_type": "stream",
     "text": [
      "Wall time: 13 s\n"
     ]
    }
   ],
   "source": [
    "%%time\n",
    "import time\n",
    "\n",
    "links = []\n",
    "for i in range(1,2):\n",
    "    driver.get(url + str(i))\n",
    "    driver.execute_script(\"window.scrollTo(0,document.body.scrollHeight)\") # Đoạn scrip để scroll trang web\n",
    "    time.sleep(10)\n",
    "    \n",
    "    elem = driver.find_elements_by_xpath(\"//a[@class='product-item']\")\n",
    "  \n",
    "    lt = []\n",
    "    lt = [el for el in elem]\n",
    "    for l in lt:\n",
    "        links.append(l.get_attribute('href'))"
   ]
  },
  {
   "cell_type": "code",
   "execution_count": 6,
   "metadata": {},
   "outputs": [
    {
     "data": {
      "text/plain": [
       "['https://tiki.vn/con-chim-xanh-biec-bay-ve-nguyen-nhat-anh-bia-mem-p72202103.html',\n",
       " 'https://tiki.vn/to-binh-yen-ve-hanh-phuc-p63190447.html',\n",
       " 'https://tiki.vn/thay-doi-cuoc-song-voi-nhan-so-hoc-p71345381.html',\n",
       " 'https://tiki.vn/dan-ong-sao-hoa-dan-ba-sao-kim-p10005245.html',\n",
       " 'https://tiki.vn/may-tinh-khoa-hoc-casio-fx-580vn-x-p3014291.html',\n",
       " 'https://tiki.vn/dung-lua-chon-an-nhan-khi-con-tre-p11232442.html',\n",
       " 'https://tiki.vn/suc-manh-cua-ngon-tu-tang-kem-1-photocard-mintbooks-limited-p57870426.html',\n",
       " 'https://tiki.vn/10-phut-tinh-tam-71-thoi-quen-can-bang-cuoc-song-hien-dai-p14378792.html',\n",
       " 'https://tiki.vn/sapiens-luoc-su-loai-nguoi-tai-ban-co-chinh-sua-p888553.html',\n",
       " 'https://tiki.vn/tu-dien-tieng-em-p71907876.html',\n",
       " 'https://tiki.vn/nong-gian-la-ban-nang-tinh-lang-la-ban-linh-p26114399.html',\n",
       " 'https://tiki.vn/quen-mot-nguoi-la-chuyen-cua-thoi-gian-p72886463.html',\n",
       " 'https://tiki.vn/toi-quyet-dinh-song-cho-chinh-toi-tang-kem-1-so-to-do-list-2020-p46107062.html',\n",
       " 'https://tiki.vn/muon-kiep-nhan-sinh-many-lives-many-times-p54748899.html',\n",
       " 'https://tiki.vn/mindmap-english-grammar-ngu-phap-tieng-anh-bang-so-do-tu-duy-p6926849.html',\n",
       " 'https://tiki.vn/bien-nien-co-don-p72542474.html',\n",
       " 'https://tiki.vn/tuoi-tre-dang-gia-bao-nhieu-tai-ban-p7718733.html',\n",
       " 'https://tiki.vn/the-gioi-se-chang-co-gi-thay-doi-ke-ca-khi-ban-khoc-tang-kem-postcard-p45123835.html',\n",
       " 'https://tiki.vn/vui-ve-khong-quau-nha-tan-van-p50751279.html',\n",
       " 'https://tiki.vn/tu-hoc-2000-tu-vung-tieng-anh-theo-chu-de-p1007137.html',\n",
       " 'https://tiki.vn/con-chim-xanh-biec-bay-ve-nguyen-nhat-anh-bia-cung-p72199563.html',\n",
       " 'https://tiki.vn/giai-ma-sieu-tri-nho-p58864689.html',\n",
       " 'https://tiki.vn/muon-kiep-nhan-sinh-kho-nho-p69219919.html',\n",
       " 'https://tiki.vn/hai-so-phan-bia-cung-p4940239.html',\n",
       " 'https://tiki.vn/dac-nhan-tam-kho-lon-p480040.html',\n",
       " 'https://tiki.vn/nha-gia-kim-p378448.html',\n",
       " 'https://tiki.vn/thien-tai-ben-trai-ke-dien-ben-phai-p19963125.html',\n",
       " 'https://tiki.vn/so-ke-hoach-nhat-ky-365-ngay-life-planner-tang-kem-2-tam-sticker-mini-p11838843.html',\n",
       " 'https://tiki.vn/troi-sinh-vung-ve-hay-bu-dap-bang-su-kien-tri-p66398387.html',\n",
       " 'https://tiki.vn/sieu-co-how-to-be-a-power-connector-p57110087.html',\n",
       " 'https://tiki.vn/999-la-thu-gui-cho-chinh-minh-mong-ban-tro-thanh-phien-ban-hoan-hao-nhat-p5143339.html',\n",
       " 'https://tiki.vn/can-bang-cam-xuc-ca-luc-bao-giong-p14462349.html',\n",
       " 'https://tiki.vn/cang-ky-luat-cang-tu-do-p68585576.html',\n",
       " 'https://tiki.vn/the-gioi-rong-lon-long-nguoi-chat-hep-tang-kem-1-bookmark-p70016690.html',\n",
       " 'https://tiki.vn/mat-biec-tai-ban-2019-p24951095.html',\n",
       " 'https://tiki.vn/giai-thich-ngu-phap-tieng-anh-tai-ban-2020-p52611842.html',\n",
       " 'https://tiki.vn/chu-nghia-khac-ky-phong-cach-song-ban-linh-va-binh-than-p49459956.html',\n",
       " 'https://tiki.vn/thuat-doc-tam-p37890741.html',\n",
       " 'https://tiki.vn/khi-hoi-tho-hoa-thinh-khong-p750578.html',\n",
       " 'https://tiki.vn/the-book-of-leadership-dan-dat-ban-than-doi-nhom-va-to-chuc-vuon-xa-p9687403.html',\n",
       " 'https://tiki.vn/combo-truyen-tranh-song-ngu-viet-anh-cho-be-12-tap-p48592472.html',\n",
       " 'https://tiki.vn/thanh-guom-diet-quy-tap-20-trai-tim-kien-dinh-dan-loi-p73183593.html',\n",
       " 'https://tiki.vn/combo-999-la-thu-gui-cho-chinh-minh-tang-kem-bookmark-tron-bo-2-tap-p11081535.html',\n",
       " 'https://tiki.vn/doi-ngan-dung-ngu-dai-tai-ban-p8835159.html',\n",
       " 'https://tiki.vn/combo-sherlock-holmes-toan-tap-tron-bo-3-tap-p545278.html',\n",
       " 'https://tiki.vn/buoc-cham-lai-giua-the-gian-voi-va-tai-ban-p3639597.html',\n",
       " 'https://tiki.vn/tony-buoi-sang-tren-duong-bang-tai-ban-2017-p1005148.html',\n",
       " 'https://tiki.vn/toi-tung-nghi-moi-thu-se-on-khi-tro-thanh-nguoi-lon-tang-kem-1-bookmark-p56692532.html']"
      ]
     },
     "execution_count": 6,
     "metadata": {},
     "output_type": "execute_result"
    }
   ],
   "source": [
    "links"
   ]
  },
  {
   "cell_type": "code",
   "execution_count": 7,
   "metadata": {},
   "outputs": [
    {
     "name": "stdout",
     "output_type": "stream",
     "text": [
      "48\n"
     ]
    }
   ],
   "source": [
    "print(len(links))"
   ]
  },
  {
   "cell_type": "markdown",
   "metadata": {},
   "source": [
    "### Save link to file csv"
   ]
  },
  {
   "cell_type": "code",
   "execution_count": 16,
   "metadata": {},
   "outputs": [],
   "source": [
    "# import csv\n",
    "# import numpy as np\n",
    "\n",
    "# filename = 'links.csv'\n",
    "# l = np.array(links)\n",
    "# with open(filename, 'w', newline='') as csvfile:\n",
    "#     writer = csv.writer(csvfile, delimiter=',')\n",
    "#     for row in range(0,l.shape[0]):\n",
    "#         myList = []\n",
    "#         myList.append(l[row])\n",
    "#         writer.writerow(myList)\n",
    "    "
   ]
  },
  {
   "cell_type": "markdown",
   "metadata": {},
   "source": [
    "### Read file csv"
   ]
  },
  {
   "cell_type": "code",
   "execution_count": 4,
   "metadata": {},
   "outputs": [
    {
     "data": {
      "text/html": [
       "<div>\n",
       "<style scoped>\n",
       "    .dataframe tbody tr th:only-of-type {\n",
       "        vertical-align: middle;\n",
       "    }\n",
       "\n",
       "    .dataframe tbody tr th {\n",
       "        vertical-align: top;\n",
       "    }\n",
       "\n",
       "    .dataframe thead th {\n",
       "        text-align: right;\n",
       "    }\n",
       "</style>\n",
       "<table border=\"1\" class=\"dataframe\">\n",
       "  <thead>\n",
       "    <tr style=\"text-align: right;\">\n",
       "      <th></th>\n",
       "      <th>0</th>\n",
       "    </tr>\n",
       "  </thead>\n",
       "  <tbody>\n",
       "    <tr>\n",
       "      <th>0</th>\n",
       "      <td>https://tiki.vn/con-chim-xanh-biec-bay-ve-nguy...</td>\n",
       "    </tr>\n",
       "    <tr>\n",
       "      <th>1</th>\n",
       "      <td>https://tiki.vn/thay-doi-cuoc-song-voi-nhan-so...</td>\n",
       "    </tr>\n",
       "    <tr>\n",
       "      <th>2</th>\n",
       "      <td>https://tiki.vn/to-binh-yen-ve-hanh-phuc-p6319...</td>\n",
       "    </tr>\n",
       "    <tr>\n",
       "      <th>3</th>\n",
       "      <td>https://tiki.vn/muon-kiep-nhan-sinh-many-lives...</td>\n",
       "    </tr>\n",
       "    <tr>\n",
       "      <th>4</th>\n",
       "      <td>https://tiki.vn/bien-nien-co-don-p72542474.html</td>\n",
       "    </tr>\n",
       "    <tr>\n",
       "      <th>...</th>\n",
       "      <td>...</td>\n",
       "    </tr>\n",
       "    <tr>\n",
       "      <th>9394</th>\n",
       "      <td>https://tiki.vn/ngu-phap-tieng-anh-8-luyen-ki-...</td>\n",
       "    </tr>\n",
       "    <tr>\n",
       "      <th>9395</th>\n",
       "      <td>https://tiki.vn/nguoi-bien-mat-p42057383.html</td>\n",
       "    </tr>\n",
       "    <tr>\n",
       "      <th>9396</th>\n",
       "      <td>https://tiki.vn/lich-de-ban-a-2021-giao-2-hinh...</td>\n",
       "    </tr>\n",
       "    <tr>\n",
       "      <th>9397</th>\n",
       "      <td>https://tiki.vn/tieng-han-co-ban-cung-cheri-hy...</td>\n",
       "    </tr>\n",
       "    <tr>\n",
       "      <th>9398</th>\n",
       "      <td>https://tiki.vn/the-life-changing-magic-of-tid...</td>\n",
       "    </tr>\n",
       "  </tbody>\n",
       "</table>\n",
       "<p>9399 rows × 1 columns</p>\n",
       "</div>"
      ],
      "text/plain": [
       "                                                      0\n",
       "0     https://tiki.vn/con-chim-xanh-biec-bay-ve-nguy...\n",
       "1     https://tiki.vn/thay-doi-cuoc-song-voi-nhan-so...\n",
       "2     https://tiki.vn/to-binh-yen-ve-hanh-phuc-p6319...\n",
       "3     https://tiki.vn/muon-kiep-nhan-sinh-many-lives...\n",
       "4       https://tiki.vn/bien-nien-co-don-p72542474.html\n",
       "...                                                 ...\n",
       "9394  https://tiki.vn/ngu-phap-tieng-anh-8-luyen-ki-...\n",
       "9395      https://tiki.vn/nguoi-bien-mat-p42057383.html\n",
       "9396  https://tiki.vn/lich-de-ban-a-2021-giao-2-hinh...\n",
       "9397  https://tiki.vn/tieng-han-co-ban-cung-cheri-hy...\n",
       "9398  https://tiki.vn/the-life-changing-magic-of-tid...\n",
       "\n",
       "[9399 rows x 1 columns]"
      ]
     },
     "execution_count": 4,
     "metadata": {},
     "output_type": "execute_result"
    }
   ],
   "source": [
    "# read file csv \n",
    "filename = 'links.csv'\n",
    "\n",
    "import pandas as pd\n",
    "\n",
    "links_data = pd.read_csv(filename, header=None)\n",
    "links_data\n"
   ]
  },
  {
   "cell_type": "code",
   "execution_count": 5,
   "metadata": {},
   "outputs": [
    {
     "data": {
      "text/plain": [
       "0       https://tiki.vn/con-chim-xanh-biec-bay-ve-nguy...\n",
       "1       https://tiki.vn/thay-doi-cuoc-song-voi-nhan-so...\n",
       "2       https://tiki.vn/to-binh-yen-ve-hanh-phuc-p6319...\n",
       "3       https://tiki.vn/muon-kiep-nhan-sinh-many-lives...\n",
       "4         https://tiki.vn/bien-nien-co-don-p72542474.html\n",
       "                              ...                        \n",
       "9394    https://tiki.vn/ngu-phap-tieng-anh-8-luyen-ki-...\n",
       "9395        https://tiki.vn/nguoi-bien-mat-p42057383.html\n",
       "9396    https://tiki.vn/lich-de-ban-a-2021-giao-2-hinh...\n",
       "9397    https://tiki.vn/tieng-han-co-ban-cung-cheri-hy...\n",
       "9398    https://tiki.vn/the-life-changing-magic-of-tid...\n",
       "Name: 0, Length: 9399, dtype: object"
      ]
     },
     "execution_count": 5,
     "metadata": {},
     "output_type": "execute_result"
    }
   ],
   "source": [
    "links = links_data[0]\n",
    "links"
   ]
  },
  {
   "cell_type": "code",
   "execution_count": 8,
   "metadata": {},
   "outputs": [],
   "source": [
    "# transform width into rate \n",
    "def rating(r):              \n",
    "    rate = [i for i in range(0,len(r))]\n",
    "    for i in range(0,len(r)):\n",
    "        if (r[i] == 'width: 20%;'):\n",
    "            rate[i] = 1\n",
    "        elif (r[i] == 'width: 40%;'):\n",
    "            rate[i] = 2\n",
    "        elif (r[i] == 'width: 60%;'):\n",
    "            rate[i] = 3\n",
    "        elif (r[i] == 'width: 80%;'):\n",
    "            rate[i] = 4\n",
    "        else:\n",
    "            rate[i] = 5\n",
    "    return rate\n",
    "        "
   ]
  },
  {
   "cell_type": "code",
   "execution_count": 9,
   "metadata": {},
   "outputs": [],
   "source": [
    "# dumps data \n",
    "def dumps_data(a,b,c, link):\n",
    "    data = []\n",
    "    if (len(a) ==0 ) or (len(b) == 0) or (len(a) != len(b)):\n",
    "        data = []\n",
    "        return data\n",
    "    else:\n",
    "        for i in range(0,len(a)):\n",
    "            t = {}\n",
    "            t['rate'] = a[i]\n",
    "            if b[i] == '':\n",
    "                t['content'] = c[i]\n",
    "            else: \n",
    "                t['content'] = b[i]\n",
    "            t['link'] = link\n",
    "            data.append(t)\n",
    "    return data\n",
    "    "
   ]
  },
  {
   "cell_type": "markdown",
   "metadata": {},
   "source": [
    "### Crawl comments"
   ]
  },
  {
   "cell_type": "code",
   "execution_count": 33,
   "metadata": {
    "scrolled": false
   },
   "outputs": [],
   "source": [
    "from selenium.common.exceptions import TimeoutException\n",
    "from selenium.common.exceptions import NoSuchElementException\n",
    "import time\n",
    "\n",
    "data = []\n",
    "for link in links[1:len(links)]:\n",
    "    driver.get(link)\n",
    "    try:\n",
    "        driver.execute_script(\"window.scrollTo(0,document.body.scrollHeight)\") # Đoạn scrip để scroll trang web\n",
    "        time.sleep(23)\n",
    "        # lay rating cho cmt\n",
    "        rate = driver.find_elements_by_xpath(\"//*[@class='Stars__StyledStars-sc-15olgyg-0 jucQbJ']/div[1]\")\n",
    "        ratingg = [el.get_attribute('style') for el in rate]\n",
    "        star = ratingg[6:]\n",
    "\n",
    "        elements = driver.find_elements_by_xpath(\"//*[@class='review-comment__content']\")\n",
    "        comments = [el.text for el in elements]\n",
    "        \n",
    "        elements1 = driver.find_elements_by_xpath(\"//*[@class='review-comment__title']\")\n",
    "        titles = [el.text for el in elements1]\n",
    "        \n",
    "        rate_s = rating(star)\n",
    "        datas_link = dumps_data(rate_s, comments, titles, link)\n",
    "        \n",
    "        data.extend(datas_link)\n",
    "    except NoSuchElementException:\n",
    "        data.append(None)     \n",
    "    "
   ]
  },
  {
   "cell_type": "code",
   "execution_count": 34,
   "metadata": {},
   "outputs": [
    {
     "data": {
      "text/plain": [
       "8407"
      ]
     },
     "execution_count": 34,
     "metadata": {},
     "output_type": "execute_result"
    }
   ],
   "source": [
    "len(data)"
   ]
  },
  {
   "cell_type": "code",
   "execution_count": 29,
   "metadata": {},
   "outputs": [],
   "source": [
    "# save data to file json\n",
    "import json\n",
    "with open(\"comments.json\", \"w\") as outfile: \n",
    "    json.dump(data, outfile)"
   ]
  },
  {
   "cell_type": "code",
   "execution_count": 14,
   "metadata": {},
   "outputs": [],
   "source": [
    "# read data open file json\n",
    "import json \n",
    "with open('comments.json', \"r\") as f:\n",
    "    data = json.loads(f.read())"
   ]
  },
  {
   "cell_type": "markdown",
   "metadata": {},
   "source": [
    "### Test link crawl"
   ]
  },
  {
   "cell_type": "code",
   "execution_count": 10,
   "metadata": {},
   "outputs": [],
   "source": [
    "import time\n",
    "driver.get(links[1])\n",
    "driver.execute_script(\"window.scrollTo(0,document.body.scrollHeight)\") # Đoạn scrip để scroll trang web\n",
    "time.sleep(25)\n",
    "\n",
    "e = driver.find_elements_by_xpath(\"//*[@class='Stars__StyledStars-sc-15olgyg-0 jucQbJ']/div[1]\")\n",
    "s = [el.get_attribute('style') for el in e]\n",
    "star = s[6:]\n",
    "\n",
    "elements = driver.find_elements_by_xpath(\"//*[@class='review-comment__content']\")\n",
    "storyTitles = [el.text for el in elements]\n",
    "\n",
    "elements1 = driver.find_elements_by_xpath(\"//*[@class='review-comment__title']\")\n",
    "titles = [el.text for el in elements1]\n"
   ]
  },
  {
   "cell_type": "code",
   "execution_count": 11,
   "metadata": {},
   "outputs": [],
   "source": [
    "tg = dumps_data(rating(star), storyTitles, titles, links[1])"
   ]
  },
  {
   "cell_type": "code",
   "execution_count": 12,
   "metadata": {},
   "outputs": [
    {
     "data": {
      "text/plain": [
       "[{'rate': 5,\n",
       "  'content': 'Mình mua dùm 1 bạn nữ thất tình. Bạn đó tên là Thanh Đa. Bạn đó nói mua sách để bớt buồn nhưng mà sau khi sử dụng sách thì thấy rất stress. Bức hình bạn ấy tô là nói lên tương lai 2 người cùng nhau cố gắng nhưng đã chia tay. Giờ bạn ấy vừa uống bia vừa tô màu',\n",
       "  'link': 'https://tiki.vn/to-binh-yen-ve-hanh-phuc-p63190447.html'},\n",
       " {'rate': 5,\n",
       "  'content': 'Trời ơi sách xinh lắm luôn í. Sách bìa mềm, giấy trắng trơn dày mượt. Bên trong có 95 trang sách với các loại hình thù ngộ nghĩnh, đáng yêu để tô màu. Mình chọn Tiki now 2h nên ship hàng siêu nhanh, đêm hôm trước đặt sáng hôm sau mở mắt đã thấy shipper gọi ra nhận đồ.',\n",
       "  'link': 'https://tiki.vn/to-binh-yen-ve-hanh-phuc-p63190447.html'},\n",
       " {'rate': 5,\n",
       "  'content': 'Sách của anh Kulzsc cực kì nên mua luôn ạ! Các bức tranh trong đây siêu đáng yêu, giấy in thì dày dặn có thể tô được cả màu nước. Mà mình còn săn được bản đặc biệt nên là rất rất ưng luôn. Highly recommed mọi người mua cuốn sách này luôn á!!!',\n",
       "  'link': 'https://tiki.vn/to-binh-yen-ve-hanh-phuc-p63190447.html'},\n",
       " {'rate': 5,\n",
       "  'content': 'Xink xỉu luôn ấy, vừa đặt bữa thứ 5 mà thứ 6 đã có rồi, tưởng không xink nhưng xink không tưởng luôn ạ, mấy đứa bạn nhìn xink quá nên nó nhờ đặt hộ tới 8-9 quyển nữaaa, hi vọng sau này anh Kulzc sẽ có thêm nhiều quyển sách như này nữaa, thật sự lúc tô cảm thấy rất bình yên, thấy cuộc sống đẹp hơn nhiều luôn ấy 💙',\n",
       "  'link': 'https://tiki.vn/to-binh-yen-ve-hanh-phuc-p63190447.html'},\n",
       " {'rate': 4,\n",
       "  'content': 'Sách giao hơi chậm, đóng gói không chắc chắn mình không biết do quá trình vận chuyển hay sách đã bị quăn nếp gấp ở 2 đầu như vậy trước. Về sản phẩm mình khá thích tô màu và vẽ, sách này giúp mình cảm thấy như được tìm về với niềm đam mê hồi ấy :)) Cứ mỗi trang mở ra là 1 trang tô màu và 1 trích dẫn nhỏ.',\n",
       "  'link': 'https://tiki.vn/to-binh-yen-ve-hanh-phuc-p63190447.html'},\n",
       " {'rate': 1,\n",
       "  'content': 'Cố tình chọn của Tiki trading đặt để sử dụng bookcare mà cuối cùng giao sách thô không hề được bao bọc gì. Sách bị tưa tưa chỗ các cạnh sách, bìa bị dính dơ. Chờ hơn cả tuần để nhận sách mà lại nhận về được sự ức chế. Quá thất vọng với tiki!!!',\n",
       "  'link': 'https://tiki.vn/to-binh-yen-ve-hanh-phuc-p63190447.html'},\n",
       " {'rate': 5,\n",
       "  'content': 'Sách siêu xinh luôn ạ, tô màu không bị lem vì giấy cứng 💯. Mua cuốn này mỗi lần tô màu dù chỉ là những chi tiết nhỏ nhưng cũng mang lại niềm vui khá nhiều, ai đang có chuyện buồn thì nên mua nhaaa. Đừng buồn nữa vì cuộc đời còn dài lắm. Mới đầu mình mua cuốn này để tặng người khác nhân dịp Noel mà mua xong thì hết tặng được vì một số lý do cá nhân, nên lấy dùng luôn 🥳 Chúc ai đọc được comment này giáng sinh an lành.',\n",
       "  'link': 'https://tiki.vn/to-binh-yen-ve-hanh-phuc-p63190447.html'},\n",
       " {'rate': 5,\n",
       "  'content': 'Sách xịn xĩu , đáng để mua lắm mn ạ . Trang giấy khá dày , trắng và mượt cực í ạ cùng với các hình vẽ siêu dth luôn ạ . Tiki giao hàng khá nhanh , e đặt sách vào sáng ngày 12/12 mà đến chiều ngày 13/12 đã giao cho em luôn rồi . Tuy có phần bụi bẩn nhưng e vẫn đánh giá cho tiki 5 sao là vì tiki giao hàng nhanh í ạ . Tuy hộp bị mốp nhưng sách thì ko sao ạ . Nội dung vẫn rất xinh .',\n",
       "  'link': 'https://tiki.vn/to-binh-yen-ve-hanh-phuc-p63190447.html'},\n",
       " {'rate': 5,\n",
       "  'content': 'sách của kulzsc vẫn luôn làm mình xuyến xao như thế, nhưng lần này hơi buồn tiki vì không đóng hộp nhỏ xinh và bọc sách kĩ như những lần trước nữa rồi. mọi khi mở hộp sách của tiki giống như nhận quà í, từng lớp từng lớp vô cùng hồi hộp. lần này sách của mình bị quăn mép nữa :((( 5 sao cho sách và 4 sao cho tiki thôi vì ngoài đóng gói ra mọi thứ đều ổn cả.',\n",
       "  'link': 'https://tiki.vn/to-binh-yen-ve-hanh-phuc-p63190447.html'},\n",
       " {'rate': 5,\n",
       "  'content': 'Hàng giao nhanh mới hqua báo mà nay ra đã nhận đc rồi nhưng vẫn hơi thất vọng vì các phần gáy sách và đầu trang bị cong 😢 nội dung trong sách vẫn nguyên vẹn và vô cùng đáng iu tới từ anh kulzsc nên mình vẫn đáng giá 5* nhaaaaaa',\n",
       "  'link': 'https://tiki.vn/to-binh-yen-ve-hanh-phuc-p63190447.html'}]"
      ]
     },
     "execution_count": 12,
     "metadata": {},
     "output_type": "execute_result"
    }
   ],
   "source": [
    "tg"
   ]
  },
  {
   "cell_type": "code",
   "execution_count": null,
   "metadata": {},
   "outputs": [],
   "source": []
  }
 ],
 "metadata": {
  "kernelspec": {
   "display_name": "Python 3",
   "language": "python",
   "name": "python3"
  },
  "language_info": {
   "codemirror_mode": {
    "name": "ipython",
    "version": 3
   },
   "file_extension": ".py",
   "mimetype": "text/x-python",
   "name": "python",
   "nbconvert_exporter": "python",
   "pygments_lexer": "ipython3",
   "version": "3.8.3"
  }
 },
 "nbformat": 4,
 "nbformat_minor": 4
}
